{
 "cells": [
  {
   "cell_type": "markdown",
   "id": "2a532253",
   "metadata": {},
   "source": [
    "# WALMART FINANCIAL ANALYSIS 2012 - 2022"
   ]
  },
  {
   "cell_type": "markdown",
   "id": "a57514a7",
   "metadata": {},
   "source": [
    "## Importing relevant libraries"
   ]
  },
  {
   "cell_type": "code",
   "execution_count": 1,
   "id": "e6056470",
   "metadata": {},
   "outputs": [],
   "source": [
    "import pandas as pd\n",
    "import numpy as np\n",
    "import matplotlib.pyplot as plt\n",
    "import seaborn as sb\n",
    "import warnings"
   ]
  },
  {
   "cell_type": "markdown",
   "id": "6c6a5b15",
   "metadata": {},
   "source": [
    "## Notebook setup"
   ]
  },
  {
   "cell_type": "code",
   "execution_count": 3,
   "id": "f89844a7",
   "metadata": {},
   "outputs": [],
   "source": [
    "warnings.filterwarnings(\"ignore\")"
   ]
  },
  {
   "cell_type": "markdown",
   "id": "6c8a1358",
   "metadata": {},
   "source": [
    "## Loading the dataset"
   ]
  },
  {
   "cell_type": "code",
   "execution_count": 4,
   "id": "a5c4d54a",
   "metadata": {},
   "outputs": [],
   "source": [
    "df = pd.read_csv(\"Financials Sample Data.csv\")"
   ]
  },
  {
   "cell_type": "markdown",
   "id": "fa22e387",
   "metadata": {},
   "source": [
    "## Data Exploration"
   ]
  },
  {
   "cell_type": "code",
   "execution_count": 5,
   "id": "0f40e3d0",
   "metadata": {},
   "outputs": [
    {
     "data": {
      "text/html": [
       "<div>\n",
       "<style scoped>\n",
       "    .dataframe tbody tr th:only-of-type {\n",
       "        vertical-align: middle;\n",
       "    }\n",
       "\n",
       "    .dataframe tbody tr th {\n",
       "        vertical-align: top;\n",
       "    }\n",
       "\n",
       "    .dataframe thead th {\n",
       "        text-align: right;\n",
       "    }\n",
       "</style>\n",
       "<table border=\"1\" class=\"dataframe\">\n",
       "  <thead>\n",
       "    <tr style=\"text-align: right;\">\n",
       "      <th></th>\n",
       "      <th>Account</th>\n",
       "      <th>Businees Unit</th>\n",
       "      <th>Currency</th>\n",
       "      <th>Year</th>\n",
       "      <th>Scenario</th>\n",
       "      <th>Jan</th>\n",
       "      <th>Feb</th>\n",
       "      <th>Mar</th>\n",
       "      <th>Apr</th>\n",
       "      <th>May</th>\n",
       "      <th>Jun</th>\n",
       "      <th>Jul</th>\n",
       "      <th>Aug</th>\n",
       "      <th>Sep</th>\n",
       "      <th>Oct</th>\n",
       "      <th>Nov</th>\n",
       "      <th>Dec</th>\n",
       "    </tr>\n",
       "  </thead>\n",
       "  <tbody>\n",
       "    <tr>\n",
       "      <th>0</th>\n",
       "      <td>Sales</td>\n",
       "      <td>Software</td>\n",
       "      <td>USD</td>\n",
       "      <td>2012</td>\n",
       "      <td>Actuals</td>\n",
       "      <td>$90,924,002</td>\n",
       "      <td>$82,606,134</td>\n",
       "      <td>$72,780,220</td>\n",
       "      <td>$52,943,701</td>\n",
       "      <td>$77,528,109</td>\n",
       "      <td>$96,384,524</td>\n",
       "      <td>$77,345,061</td>\n",
       "      <td>$98,290,873</td>\n",
       "      <td>$79,879,127</td>\n",
       "      <td>$95,373,403</td>\n",
       "      <td>$54,887,908</td>\n",
       "      <td>$82,703,597</td>\n",
       "    </tr>\n",
       "    <tr>\n",
       "      <th>1</th>\n",
       "      <td>Cost of Goods Sold</td>\n",
       "      <td>Software</td>\n",
       "      <td>USD</td>\n",
       "      <td>2012</td>\n",
       "      <td>Actuals</td>\n",
       "      <td>($41,623,278)</td>\n",
       "      <td>($40,464,347)</td>\n",
       "      <td>($30,806,326)</td>\n",
       "      <td>($21,412,962)</td>\n",
       "      <td>($37,047,252)</td>\n",
       "      <td>($44,819,597)</td>\n",
       "      <td>($34,847,393)</td>\n",
       "      <td>($47,903,350)</td>\n",
       "      <td>($35,880,653)</td>\n",
       "      <td>($44,982,115)</td>\n",
       "      <td>($26,929,424)</td>\n",
       "      <td>($34,233,473)</td>\n",
       "    </tr>\n",
       "    <tr>\n",
       "      <th>2</th>\n",
       "      <td>Commissions Expense</td>\n",
       "      <td>Software</td>\n",
       "      <td>USD</td>\n",
       "      <td>2012</td>\n",
       "      <td>Actuals</td>\n",
       "      <td>($4,454,359)</td>\n",
       "      <td>($3,386,032)</td>\n",
       "      <td>($3,389,705)</td>\n",
       "      <td>($2,149,257)</td>\n",
       "      <td>($3,168,079)</td>\n",
       "      <td>($4,417,624)</td>\n",
       "      <td>($3,386,461)</td>\n",
       "      <td>($4,052,846)</td>\n",
       "      <td>($3,418,737)</td>\n",
       "      <td>($4,365,527)</td>\n",
       "      <td>($2,455,561)</td>\n",
       "      <td>($3,646,726)</td>\n",
       "    </tr>\n",
       "    <tr>\n",
       "      <th>3</th>\n",
       "      <td>Payroll Expense</td>\n",
       "      <td>Software</td>\n",
       "      <td>USD</td>\n",
       "      <td>2012</td>\n",
       "      <td>Actuals</td>\n",
       "      <td>($9,901,680)</td>\n",
       "      <td>($9,871,172)</td>\n",
       "      <td>($8,459,696)</td>\n",
       "      <td>($6,303,408)</td>\n",
       "      <td>($8,493,573)</td>\n",
       "      <td>($11,082,494)</td>\n",
       "      <td>($8,081,033)</td>\n",
       "      <td>($11,070,018)</td>\n",
       "      <td>($8,410,665)</td>\n",
       "      <td>($10,081,727)</td>\n",
       "      <td>($6,300,578)</td>\n",
       "      <td>($9,099,438)</td>\n",
       "    </tr>\n",
       "    <tr>\n",
       "      <th>4</th>\n",
       "      <td>Travel &amp; Entertainment Expense</td>\n",
       "      <td>Software</td>\n",
       "      <td>USD</td>\n",
       "      <td>2012</td>\n",
       "      <td>Actuals</td>\n",
       "      <td>($951,255)</td>\n",
       "      <td>($838,985)</td>\n",
       "      <td>($872,700)</td>\n",
       "      <td>($624,416)</td>\n",
       "      <td>($919,835)</td>\n",
       "      <td>($1,085,296)</td>\n",
       "      <td>($818,602)</td>\n",
       "      <td>($1,040,585)</td>\n",
       "      <td>($803,190)</td>\n",
       "      <td>($1,158,623)</td>\n",
       "      <td>($611,335)</td>\n",
       "      <td>($941,542)</td>\n",
       "    </tr>\n",
       "  </tbody>\n",
       "</table>\n",
       "</div>"
      ],
      "text/plain": [
       "                          Account Businees Unit Currency  Year Scenario  \\\n",
       "0                           Sales      Software      USD  2012  Actuals   \n",
       "1              Cost of Goods Sold      Software      USD  2012  Actuals   \n",
       "2             Commissions Expense      Software      USD  2012  Actuals   \n",
       "3                 Payroll Expense      Software      USD  2012  Actuals   \n",
       "4  Travel & Entertainment Expense      Software      USD  2012  Actuals   \n",
       "\n",
       "             Jan            Feb            Mar            Apr            May  \\\n",
       "0   $90,924,002    $82,606,134    $72,780,220    $52,943,701    $77,528,109    \n",
       "1  ($41,623,278)  ($40,464,347)  ($30,806,326)  ($21,412,962)  ($37,047,252)   \n",
       "2   ($4,454,359)   ($3,386,032)   ($3,389,705)   ($2,149,257)   ($3,168,079)   \n",
       "3   ($9,901,680)   ($9,871,172)   ($8,459,696)   ($6,303,408)   ($8,493,573)   \n",
       "4     ($951,255)     ($838,985)     ($872,700)     ($624,416)     ($919,835)   \n",
       "\n",
       "             Jun            Jul            Aug            Sep            Oct  \\\n",
       "0   $96,384,524    $77,345,061    $98,290,873    $79,879,127    $95,373,403    \n",
       "1  ($44,819,597)  ($34,847,393)  ($47,903,350)  ($35,880,653)  ($44,982,115)   \n",
       "2   ($4,417,624)   ($3,386,461)   ($4,052,846)   ($3,418,737)   ($4,365,527)   \n",
       "3  ($11,082,494)   ($8,081,033)  ($11,070,018)   ($8,410,665)  ($10,081,727)   \n",
       "4   ($1,085,296)     ($818,602)   ($1,040,585)     ($803,190)   ($1,158,623)   \n",
       "\n",
       "             Nov            Dec  \n",
       "0   $54,887,908    $82,703,597   \n",
       "1  ($26,929,424)  ($34,233,473)  \n",
       "2   ($2,455,561)   ($3,646,726)  \n",
       "3   ($6,300,578)   ($9,099,438)  \n",
       "4     ($611,335)     ($941,542)  "
      ]
     },
     "execution_count": 5,
     "metadata": {},
     "output_type": "execute_result"
    }
   ],
   "source": [
    "df.head()"
   ]
  },
  {
   "cell_type": "code",
   "execution_count": 6,
   "id": "100392ae",
   "metadata": {},
   "outputs": [
    {
     "name": "stdout",
     "output_type": "stream",
     "text": [
      "<class 'pandas.core.frame.DataFrame'>\n",
      "RangeIndex: 351 entries, 0 to 350\n",
      "Data columns (total 17 columns):\n",
      " #   Column         Non-Null Count  Dtype \n",
      "---  ------         --------------  ----- \n",
      " 0   Account        351 non-null    object\n",
      " 1   Businees Unit  351 non-null    object\n",
      " 2   Currency       351 non-null    object\n",
      " 3   Year           351 non-null    int64 \n",
      " 4   Scenario       351 non-null    object\n",
      " 5   Jan            351 non-null    object\n",
      " 6   Feb            351 non-null    object\n",
      " 7   Mar            351 non-null    object\n",
      " 8   Apr            351 non-null    object\n",
      " 9   May            351 non-null    object\n",
      " 10  Jun            351 non-null    object\n",
      " 11  Jul            351 non-null    object\n",
      " 12  Aug            351 non-null    object\n",
      " 13  Sep            351 non-null    object\n",
      " 14  Oct            351 non-null    object\n",
      " 15  Nov            351 non-null    object\n",
      " 16  Dec            351 non-null    object\n",
      "dtypes: int64(1), object(16)\n",
      "memory usage: 46.7+ KB\n"
     ]
    }
   ],
   "source": [
    "df.info()"
   ]
  },
  {
   "cell_type": "code",
   "execution_count": 7,
   "id": "c0828a13",
   "metadata": {},
   "outputs": [
    {
     "data": {
      "text/plain": [
       "(351, 17)"
      ]
     },
     "execution_count": 7,
     "metadata": {},
     "output_type": "execute_result"
    }
   ],
   "source": [
    "df.shape"
   ]
  },
  {
   "cell_type": "markdown",
   "id": "76ba159d",
   "metadata": {},
   "source": [
    "## Data Cleaning"
   ]
  },
  {
   "cell_type": "code",
   "execution_count": 8,
   "id": "08c3c2cc",
   "metadata": {},
   "outputs": [],
   "source": [
    "for col in df.columns[5:]:\n",
    "    df[col] = df[col].str.replace('$', '')\n",
    "    df[col] = df[col].str.replace('(', '')\n",
    "    df[col] = df[col].str.replace(')', '')\n",
    "    df[col] = df[col].str.replace(',', '')\n",
    "    df[col] = df[col].astype(int)"
   ]
  },
  {
   "cell_type": "code",
   "execution_count": 9,
   "id": "b443ba4f",
   "metadata": {},
   "outputs": [
    {
     "data": {
      "text/html": [
       "<div>\n",
       "<style scoped>\n",
       "    .dataframe tbody tr th:only-of-type {\n",
       "        vertical-align: middle;\n",
       "    }\n",
       "\n",
       "    .dataframe tbody tr th {\n",
       "        vertical-align: top;\n",
       "    }\n",
       "\n",
       "    .dataframe thead th {\n",
       "        text-align: right;\n",
       "    }\n",
       "</style>\n",
       "<table border=\"1\" class=\"dataframe\">\n",
       "  <thead>\n",
       "    <tr style=\"text-align: right;\">\n",
       "      <th></th>\n",
       "      <th>Account</th>\n",
       "      <th>Businees Unit</th>\n",
       "      <th>Currency</th>\n",
       "      <th>Year</th>\n",
       "      <th>Scenario</th>\n",
       "      <th>Jan</th>\n",
       "      <th>Feb</th>\n",
       "      <th>Mar</th>\n",
       "      <th>Apr</th>\n",
       "      <th>May</th>\n",
       "      <th>Jun</th>\n",
       "      <th>Jul</th>\n",
       "      <th>Aug</th>\n",
       "      <th>Sep</th>\n",
       "      <th>Oct</th>\n",
       "      <th>Nov</th>\n",
       "      <th>Dec</th>\n",
       "    </tr>\n",
       "  </thead>\n",
       "  <tbody>\n",
       "    <tr>\n",
       "      <th>0</th>\n",
       "      <td>Sales</td>\n",
       "      <td>Software</td>\n",
       "      <td>USD</td>\n",
       "      <td>2012</td>\n",
       "      <td>Actuals</td>\n",
       "      <td>90924002</td>\n",
       "      <td>82606134</td>\n",
       "      <td>72780220</td>\n",
       "      <td>52943701</td>\n",
       "      <td>77528109</td>\n",
       "      <td>96384524</td>\n",
       "      <td>77345061</td>\n",
       "      <td>98290873</td>\n",
       "      <td>79879127</td>\n",
       "      <td>95373403</td>\n",
       "      <td>54887908</td>\n",
       "      <td>82703597</td>\n",
       "    </tr>\n",
       "    <tr>\n",
       "      <th>1</th>\n",
       "      <td>Cost of Goods Sold</td>\n",
       "      <td>Software</td>\n",
       "      <td>USD</td>\n",
       "      <td>2012</td>\n",
       "      <td>Actuals</td>\n",
       "      <td>41623278</td>\n",
       "      <td>40464347</td>\n",
       "      <td>30806326</td>\n",
       "      <td>21412962</td>\n",
       "      <td>37047252</td>\n",
       "      <td>44819597</td>\n",
       "      <td>34847393</td>\n",
       "      <td>47903350</td>\n",
       "      <td>35880653</td>\n",
       "      <td>44982115</td>\n",
       "      <td>26929424</td>\n",
       "      <td>34233473</td>\n",
       "    </tr>\n",
       "    <tr>\n",
       "      <th>2</th>\n",
       "      <td>Commissions Expense</td>\n",
       "      <td>Software</td>\n",
       "      <td>USD</td>\n",
       "      <td>2012</td>\n",
       "      <td>Actuals</td>\n",
       "      <td>4454359</td>\n",
       "      <td>3386032</td>\n",
       "      <td>3389705</td>\n",
       "      <td>2149257</td>\n",
       "      <td>3168079</td>\n",
       "      <td>4417624</td>\n",
       "      <td>3386461</td>\n",
       "      <td>4052846</td>\n",
       "      <td>3418737</td>\n",
       "      <td>4365527</td>\n",
       "      <td>2455561</td>\n",
       "      <td>3646726</td>\n",
       "    </tr>\n",
       "    <tr>\n",
       "      <th>3</th>\n",
       "      <td>Payroll Expense</td>\n",
       "      <td>Software</td>\n",
       "      <td>USD</td>\n",
       "      <td>2012</td>\n",
       "      <td>Actuals</td>\n",
       "      <td>9901680</td>\n",
       "      <td>9871172</td>\n",
       "      <td>8459696</td>\n",
       "      <td>6303408</td>\n",
       "      <td>8493573</td>\n",
       "      <td>11082494</td>\n",
       "      <td>8081033</td>\n",
       "      <td>11070018</td>\n",
       "      <td>8410665</td>\n",
       "      <td>10081727</td>\n",
       "      <td>6300578</td>\n",
       "      <td>9099438</td>\n",
       "    </tr>\n",
       "    <tr>\n",
       "      <th>4</th>\n",
       "      <td>Travel &amp; Entertainment Expense</td>\n",
       "      <td>Software</td>\n",
       "      <td>USD</td>\n",
       "      <td>2012</td>\n",
       "      <td>Actuals</td>\n",
       "      <td>951255</td>\n",
       "      <td>838985</td>\n",
       "      <td>872700</td>\n",
       "      <td>624416</td>\n",
       "      <td>919835</td>\n",
       "      <td>1085296</td>\n",
       "      <td>818602</td>\n",
       "      <td>1040585</td>\n",
       "      <td>803190</td>\n",
       "      <td>1158623</td>\n",
       "      <td>611335</td>\n",
       "      <td>941542</td>\n",
       "    </tr>\n",
       "  </tbody>\n",
       "</table>\n",
       "</div>"
      ],
      "text/plain": [
       "                          Account Businees Unit Currency  Year Scenario  \\\n",
       "0                           Sales      Software      USD  2012  Actuals   \n",
       "1              Cost of Goods Sold      Software      USD  2012  Actuals   \n",
       "2             Commissions Expense      Software      USD  2012  Actuals   \n",
       "3                 Payroll Expense      Software      USD  2012  Actuals   \n",
       "4  Travel & Entertainment Expense      Software      USD  2012  Actuals   \n",
       "\n",
       "        Jan       Feb       Mar       Apr       May       Jun       Jul  \\\n",
       "0  90924002  82606134  72780220  52943701  77528109  96384524  77345061   \n",
       "1  41623278  40464347  30806326  21412962  37047252  44819597  34847393   \n",
       "2   4454359   3386032   3389705   2149257   3168079   4417624   3386461   \n",
       "3   9901680   9871172   8459696   6303408   8493573  11082494   8081033   \n",
       "4    951255    838985    872700    624416    919835   1085296    818602   \n",
       "\n",
       "        Aug       Sep       Oct       Nov       Dec  \n",
       "0  98290873  79879127  95373403  54887908  82703597  \n",
       "1  47903350  35880653  44982115  26929424  34233473  \n",
       "2   4052846   3418737   4365527   2455561   3646726  \n",
       "3  11070018   8410665  10081727   6300578   9099438  \n",
       "4   1040585    803190   1158623    611335    941542  "
      ]
     },
     "execution_count": 9,
     "metadata": {},
     "output_type": "execute_result"
    }
   ],
   "source": [
    "df.head()"
   ]
  },
  {
   "cell_type": "code",
   "execution_count": 10,
   "id": "0f8ab67d",
   "metadata": {},
   "outputs": [
    {
     "name": "stdout",
     "output_type": "stream",
     "text": [
      "<class 'pandas.core.frame.DataFrame'>\n",
      "RangeIndex: 351 entries, 0 to 350\n",
      "Data columns (total 17 columns):\n",
      " #   Column         Non-Null Count  Dtype \n",
      "---  ------         --------------  ----- \n",
      " 0   Account        351 non-null    object\n",
      " 1   Businees Unit  351 non-null    object\n",
      " 2   Currency       351 non-null    object\n",
      " 3   Year           351 non-null    int64 \n",
      " 4   Scenario       351 non-null    object\n",
      " 5   Jan            351 non-null    int32 \n",
      " 6   Feb            351 non-null    int32 \n",
      " 7   Mar            351 non-null    int32 \n",
      " 8   Apr            351 non-null    int32 \n",
      " 9   May            351 non-null    int32 \n",
      " 10  Jun            351 non-null    int32 \n",
      " 11  Jul            351 non-null    int32 \n",
      " 12  Aug            351 non-null    int32 \n",
      " 13  Sep            351 non-null    int32 \n",
      " 14  Oct            351 non-null    int32 \n",
      " 15  Nov            351 non-null    int32 \n",
      " 16  Dec            351 non-null    int32 \n",
      "dtypes: int32(12), int64(1), object(4)\n",
      "memory usage: 30.3+ KB\n"
     ]
    }
   ],
   "source": [
    "df.info()"
   ]
  },
  {
   "cell_type": "code",
   "execution_count": 11,
   "id": "1dc8bb0b",
   "metadata": {},
   "outputs": [],
   "source": [
    "df.to_csv('clean financial data.csv')"
   ]
  },
  {
   "cell_type": "code",
   "execution_count": 12,
   "id": "f0f3459a",
   "metadata": {},
   "outputs": [
    {
     "data": {
      "text/html": [
       "<div>\n",
       "<style scoped>\n",
       "    .dataframe tbody tr th:only-of-type {\n",
       "        vertical-align: middle;\n",
       "    }\n",
       "\n",
       "    .dataframe tbody tr th {\n",
       "        vertical-align: top;\n",
       "    }\n",
       "\n",
       "    .dataframe thead th {\n",
       "        text-align: right;\n",
       "    }\n",
       "</style>\n",
       "<table border=\"1\" class=\"dataframe\">\n",
       "  <thead>\n",
       "    <tr style=\"text-align: right;\">\n",
       "      <th></th>\n",
       "      <th>Account</th>\n",
       "      <th>Businees Unit</th>\n",
       "      <th>Currency</th>\n",
       "      <th>Year</th>\n",
       "      <th>Scenario</th>\n",
       "      <th>Jan</th>\n",
       "      <th>Feb</th>\n",
       "      <th>Mar</th>\n",
       "      <th>Apr</th>\n",
       "      <th>May</th>\n",
       "      <th>Jun</th>\n",
       "      <th>Jul</th>\n",
       "      <th>Aug</th>\n",
       "      <th>Sep</th>\n",
       "      <th>Oct</th>\n",
       "      <th>Nov</th>\n",
       "      <th>Dec</th>\n",
       "    </tr>\n",
       "  </thead>\n",
       "  <tbody>\n",
       "    <tr>\n",
       "      <th>0</th>\n",
       "      <td>Sales</td>\n",
       "      <td>Software</td>\n",
       "      <td>USD</td>\n",
       "      <td>2012</td>\n",
       "      <td>Actuals</td>\n",
       "      <td>90924002</td>\n",
       "      <td>82606134</td>\n",
       "      <td>72780220</td>\n",
       "      <td>52943701</td>\n",
       "      <td>77528109</td>\n",
       "      <td>96384524</td>\n",
       "      <td>77345061</td>\n",
       "      <td>98290873</td>\n",
       "      <td>79879127</td>\n",
       "      <td>95373403</td>\n",
       "      <td>54887908</td>\n",
       "      <td>82703597</td>\n",
       "    </tr>\n",
       "    <tr>\n",
       "      <th>1</th>\n",
       "      <td>Cost of Goods Sold</td>\n",
       "      <td>Software</td>\n",
       "      <td>USD</td>\n",
       "      <td>2012</td>\n",
       "      <td>Actuals</td>\n",
       "      <td>41623278</td>\n",
       "      <td>40464347</td>\n",
       "      <td>30806326</td>\n",
       "      <td>21412962</td>\n",
       "      <td>37047252</td>\n",
       "      <td>44819597</td>\n",
       "      <td>34847393</td>\n",
       "      <td>47903350</td>\n",
       "      <td>35880653</td>\n",
       "      <td>44982115</td>\n",
       "      <td>26929424</td>\n",
       "      <td>34233473</td>\n",
       "    </tr>\n",
       "    <tr>\n",
       "      <th>2</th>\n",
       "      <td>Commissions Expense</td>\n",
       "      <td>Software</td>\n",
       "      <td>USD</td>\n",
       "      <td>2012</td>\n",
       "      <td>Actuals</td>\n",
       "      <td>4454359</td>\n",
       "      <td>3386032</td>\n",
       "      <td>3389705</td>\n",
       "      <td>2149257</td>\n",
       "      <td>3168079</td>\n",
       "      <td>4417624</td>\n",
       "      <td>3386461</td>\n",
       "      <td>4052846</td>\n",
       "      <td>3418737</td>\n",
       "      <td>4365527</td>\n",
       "      <td>2455561</td>\n",
       "      <td>3646726</td>\n",
       "    </tr>\n",
       "    <tr>\n",
       "      <th>3</th>\n",
       "      <td>Payroll Expense</td>\n",
       "      <td>Software</td>\n",
       "      <td>USD</td>\n",
       "      <td>2012</td>\n",
       "      <td>Actuals</td>\n",
       "      <td>9901680</td>\n",
       "      <td>9871172</td>\n",
       "      <td>8459696</td>\n",
       "      <td>6303408</td>\n",
       "      <td>8493573</td>\n",
       "      <td>11082494</td>\n",
       "      <td>8081033</td>\n",
       "      <td>11070018</td>\n",
       "      <td>8410665</td>\n",
       "      <td>10081727</td>\n",
       "      <td>6300578</td>\n",
       "      <td>9099438</td>\n",
       "    </tr>\n",
       "    <tr>\n",
       "      <th>4</th>\n",
       "      <td>Travel &amp; Entertainment Expense</td>\n",
       "      <td>Software</td>\n",
       "      <td>USD</td>\n",
       "      <td>2012</td>\n",
       "      <td>Actuals</td>\n",
       "      <td>951255</td>\n",
       "      <td>838985</td>\n",
       "      <td>872700</td>\n",
       "      <td>624416</td>\n",
       "      <td>919835</td>\n",
       "      <td>1085296</td>\n",
       "      <td>818602</td>\n",
       "      <td>1040585</td>\n",
       "      <td>803190</td>\n",
       "      <td>1158623</td>\n",
       "      <td>611335</td>\n",
       "      <td>941542</td>\n",
       "    </tr>\n",
       "  </tbody>\n",
       "</table>\n",
       "</div>"
      ],
      "text/plain": [
       "                          Account Businees Unit Currency  Year Scenario  \\\n",
       "0                           Sales      Software      USD  2012  Actuals   \n",
       "1              Cost of Goods Sold      Software      USD  2012  Actuals   \n",
       "2             Commissions Expense      Software      USD  2012  Actuals   \n",
       "3                 Payroll Expense      Software      USD  2012  Actuals   \n",
       "4  Travel & Entertainment Expense      Software      USD  2012  Actuals   \n",
       "\n",
       "        Jan       Feb       Mar       Apr       May       Jun       Jul  \\\n",
       "0  90924002  82606134  72780220  52943701  77528109  96384524  77345061   \n",
       "1  41623278  40464347  30806326  21412962  37047252  44819597  34847393   \n",
       "2   4454359   3386032   3389705   2149257   3168079   4417624   3386461   \n",
       "3   9901680   9871172   8459696   6303408   8493573  11082494   8081033   \n",
       "4    951255    838985    872700    624416    919835   1085296    818602   \n",
       "\n",
       "        Aug       Sep       Oct       Nov       Dec  \n",
       "0  98290873  79879127  95373403  54887908  82703597  \n",
       "1  47903350  35880653  44982115  26929424  34233473  \n",
       "2   4052846   3418737   4365527   2455561   3646726  \n",
       "3  11070018   8410665  10081727   6300578   9099438  \n",
       "4   1040585    803190   1158623    611335    941542  "
      ]
     },
     "execution_count": 12,
     "metadata": {},
     "output_type": "execute_result"
    }
   ],
   "source": [
    "df.head()"
   ]
  },
  {
   "cell_type": "markdown",
   "id": "533c660b",
   "metadata": {},
   "source": [
    "## Data Transformation"
   ]
  },
  {
   "cell_type": "code",
   "execution_count": 13,
   "id": "3c21065b",
   "metadata": {},
   "outputs": [],
   "source": [
    "df['Total'] = np.array(df[df.columns[5:]].sum(axis=1))"
   ]
  },
  {
   "cell_type": "code",
   "execution_count": 14,
   "id": "824c4bb7",
   "metadata": {},
   "outputs": [
    {
     "data": {
      "text/html": [
       "<div>\n",
       "<style scoped>\n",
       "    .dataframe tbody tr th:only-of-type {\n",
       "        vertical-align: middle;\n",
       "    }\n",
       "\n",
       "    .dataframe tbody tr th {\n",
       "        vertical-align: top;\n",
       "    }\n",
       "\n",
       "    .dataframe thead th {\n",
       "        text-align: right;\n",
       "    }\n",
       "</style>\n",
       "<table border=\"1\" class=\"dataframe\">\n",
       "  <thead>\n",
       "    <tr style=\"text-align: right;\">\n",
       "      <th></th>\n",
       "      <th>Account</th>\n",
       "      <th>Businees Unit</th>\n",
       "      <th>Currency</th>\n",
       "      <th>Year</th>\n",
       "      <th>Scenario</th>\n",
       "      <th>Jan</th>\n",
       "      <th>Feb</th>\n",
       "      <th>Mar</th>\n",
       "      <th>Apr</th>\n",
       "      <th>May</th>\n",
       "      <th>Jun</th>\n",
       "      <th>Jul</th>\n",
       "      <th>Aug</th>\n",
       "      <th>Sep</th>\n",
       "      <th>Oct</th>\n",
       "      <th>Nov</th>\n",
       "      <th>Dec</th>\n",
       "      <th>Total</th>\n",
       "    </tr>\n",
       "  </thead>\n",
       "  <tbody>\n",
       "    <tr>\n",
       "      <th>0</th>\n",
       "      <td>Sales</td>\n",
       "      <td>Software</td>\n",
       "      <td>USD</td>\n",
       "      <td>2012</td>\n",
       "      <td>Actuals</td>\n",
       "      <td>90924002</td>\n",
       "      <td>82606134</td>\n",
       "      <td>72780220</td>\n",
       "      <td>52943701</td>\n",
       "      <td>77528109</td>\n",
       "      <td>96384524</td>\n",
       "      <td>77345061</td>\n",
       "      <td>98290873</td>\n",
       "      <td>79879127</td>\n",
       "      <td>95373403</td>\n",
       "      <td>54887908</td>\n",
       "      <td>82703597</td>\n",
       "      <td>961646659</td>\n",
       "    </tr>\n",
       "    <tr>\n",
       "      <th>1</th>\n",
       "      <td>Cost of Goods Sold</td>\n",
       "      <td>Software</td>\n",
       "      <td>USD</td>\n",
       "      <td>2012</td>\n",
       "      <td>Actuals</td>\n",
       "      <td>41623278</td>\n",
       "      <td>40464347</td>\n",
       "      <td>30806326</td>\n",
       "      <td>21412962</td>\n",
       "      <td>37047252</td>\n",
       "      <td>44819597</td>\n",
       "      <td>34847393</td>\n",
       "      <td>47903350</td>\n",
       "      <td>35880653</td>\n",
       "      <td>44982115</td>\n",
       "      <td>26929424</td>\n",
       "      <td>34233473</td>\n",
       "      <td>440950170</td>\n",
       "    </tr>\n",
       "    <tr>\n",
       "      <th>2</th>\n",
       "      <td>Commissions Expense</td>\n",
       "      <td>Software</td>\n",
       "      <td>USD</td>\n",
       "      <td>2012</td>\n",
       "      <td>Actuals</td>\n",
       "      <td>4454359</td>\n",
       "      <td>3386032</td>\n",
       "      <td>3389705</td>\n",
       "      <td>2149257</td>\n",
       "      <td>3168079</td>\n",
       "      <td>4417624</td>\n",
       "      <td>3386461</td>\n",
       "      <td>4052846</td>\n",
       "      <td>3418737</td>\n",
       "      <td>4365527</td>\n",
       "      <td>2455561</td>\n",
       "      <td>3646726</td>\n",
       "      <td>42290914</td>\n",
       "    </tr>\n",
       "    <tr>\n",
       "      <th>3</th>\n",
       "      <td>Payroll Expense</td>\n",
       "      <td>Software</td>\n",
       "      <td>USD</td>\n",
       "      <td>2012</td>\n",
       "      <td>Actuals</td>\n",
       "      <td>9901680</td>\n",
       "      <td>9871172</td>\n",
       "      <td>8459696</td>\n",
       "      <td>6303408</td>\n",
       "      <td>8493573</td>\n",
       "      <td>11082494</td>\n",
       "      <td>8081033</td>\n",
       "      <td>11070018</td>\n",
       "      <td>8410665</td>\n",
       "      <td>10081727</td>\n",
       "      <td>6300578</td>\n",
       "      <td>9099438</td>\n",
       "      <td>107155482</td>\n",
       "    </tr>\n",
       "    <tr>\n",
       "      <th>4</th>\n",
       "      <td>Travel &amp; Entertainment Expense</td>\n",
       "      <td>Software</td>\n",
       "      <td>USD</td>\n",
       "      <td>2012</td>\n",
       "      <td>Actuals</td>\n",
       "      <td>951255</td>\n",
       "      <td>838985</td>\n",
       "      <td>872700</td>\n",
       "      <td>624416</td>\n",
       "      <td>919835</td>\n",
       "      <td>1085296</td>\n",
       "      <td>818602</td>\n",
       "      <td>1040585</td>\n",
       "      <td>803190</td>\n",
       "      <td>1158623</td>\n",
       "      <td>611335</td>\n",
       "      <td>941542</td>\n",
       "      <td>10666364</td>\n",
       "    </tr>\n",
       "  </tbody>\n",
       "</table>\n",
       "</div>"
      ],
      "text/plain": [
       "                          Account Businees Unit Currency  Year Scenario  \\\n",
       "0                           Sales      Software      USD  2012  Actuals   \n",
       "1              Cost of Goods Sold      Software      USD  2012  Actuals   \n",
       "2             Commissions Expense      Software      USD  2012  Actuals   \n",
       "3                 Payroll Expense      Software      USD  2012  Actuals   \n",
       "4  Travel & Entertainment Expense      Software      USD  2012  Actuals   \n",
       "\n",
       "        Jan       Feb       Mar       Apr       May       Jun       Jul  \\\n",
       "0  90924002  82606134  72780220  52943701  77528109  96384524  77345061   \n",
       "1  41623278  40464347  30806326  21412962  37047252  44819597  34847393   \n",
       "2   4454359   3386032   3389705   2149257   3168079   4417624   3386461   \n",
       "3   9901680   9871172   8459696   6303408   8493573  11082494   8081033   \n",
       "4    951255    838985    872700    624416    919835   1085296    818602   \n",
       "\n",
       "        Aug       Sep       Oct       Nov       Dec      Total  \n",
       "0  98290873  79879127  95373403  54887908  82703597  961646659  \n",
       "1  47903350  35880653  44982115  26929424  34233473  440950170  \n",
       "2   4052846   3418737   4365527   2455561   3646726   42290914  \n",
       "3  11070018   8410665  10081727   6300578   9099438  107155482  \n",
       "4   1040585    803190   1158623    611335    941542   10666364  "
      ]
     },
     "execution_count": 14,
     "metadata": {},
     "output_type": "execute_result"
    }
   ],
   "source": [
    "df.head()"
   ]
  },
  {
   "cell_type": "code",
   "execution_count": 15,
   "id": "c43898ab",
   "metadata": {},
   "outputs": [
    {
     "data": {
      "text/plain": [
       "array([2012, 2013, 2014, 2015, 2016, 2017, 2018, 2019, 2020, 2021, 2022,\n",
       "       2023], dtype=int64)"
      ]
     },
     "execution_count": 15,
     "metadata": {},
     "output_type": "execute_result"
    }
   ],
   "source": [
    "df.Year.unique()"
   ]
  },
  {
   "cell_type": "code",
   "execution_count": 16,
   "id": "eff393b9",
   "metadata": {},
   "outputs": [],
   "source": [
    "df = df[df['Year'] != 2023]"
   ]
  },
  {
   "cell_type": "code",
   "execution_count": 17,
   "id": "c991d4b9",
   "metadata": {},
   "outputs": [
    {
     "data": {
      "text/plain": [
       "array([2012, 2013, 2014, 2015, 2016, 2017, 2018, 2019, 2020, 2021, 2022],\n",
       "      dtype=int64)"
      ]
     },
     "execution_count": 17,
     "metadata": {},
     "output_type": "execute_result"
    }
   ],
   "source": [
    "df.Year.unique()"
   ]
  },
  {
   "cell_type": "code",
   "execution_count": 18,
   "id": "51e161f2",
   "metadata": {},
   "outputs": [],
   "source": [
    "df.to_csv('financial data 2012 - 2022.csv')"
   ]
  },
  {
   "cell_type": "markdown",
   "id": "b60b9522",
   "metadata": {},
   "source": [
    "## Sales Analysis and Visualization"
   ]
  },
  {
   "cell_type": "code",
   "execution_count": 19,
   "id": "9ba172c1",
   "metadata": {},
   "outputs": [],
   "source": [
    "sales = df[df['Account'] == 'Sales']"
   ]
  },
  {
   "cell_type": "code",
   "execution_count": 20,
   "id": "8535081b",
   "metadata": {},
   "outputs": [],
   "source": [
    "total_sales_by_year = sales.groupby('Year')['Total'].sum() / 1_000_000_000"
   ]
  },
  {
   "cell_type": "code",
   "execution_count": 21,
   "id": "dedb2431",
   "metadata": {},
   "outputs": [
    {
     "data": {
      "text/plain": [
       "Year\n",
       "2016    1.558807\n",
       "2017    1.556849\n",
       "2012    1.554061\n",
       "2022    1.495748\n",
       "2019    1.458740\n",
       "2013    1.455984\n",
       "2018    1.424819\n",
       "2015    1.399039\n",
       "2021    1.377023\n",
       "2014    1.375727\n",
       "2020    1.251657\n",
       "Name: Total, dtype: float64"
      ]
     },
     "execution_count": 21,
     "metadata": {},
     "output_type": "execute_result"
    }
   ],
   "source": [
    "total_sales_by_year.sort_values(ascending=False)"
   ]
  },
  {
   "cell_type": "code",
   "execution_count": 22,
   "id": "1f77a8f0",
   "metadata": {},
   "outputs": [
    {
     "data": {
      "image/png": "[encoded data removed]",
      "text/plain": [
       "<Figure size 640x480 with 1 Axes>"
      ]
     },
     "metadata": {},
     "output_type": "display_data"
    }
   ],
   "source": [
    "total_sales_by_year.plot()\n",
    "plt.title(\"Walmart Total Sales by Year from 2012 - 2022\")\n",
    "plt.xlabel('Year')\n",
    "plt.ylabel('Total Sales in Billion USD')\n",
    "plt.savefig('sales.png')\n",
    "plt.show()"
   ]
  },
  {
   "cell_type": "code",
   "execution_count": 23,
   "id": "8b342152",
   "metadata": {},
   "outputs": [
    {
     "data": {
      "text/plain": [
       "Year\n",
       "2016    1.558807\n",
       "2017    1.556849\n",
       "2012    1.554061\n",
       "2022    1.495748\n",
       "2019    1.458740\n",
       "2013    1.455984\n",
       "2018    1.424819\n",
       "2015    1.399039\n",
       "2021    1.377023\n",
       "2014    1.375727\n",
       "2020    1.251657\n",
       "Name: Total, dtype: float64"
      ]
     },
     "execution_count": 23,
     "metadata": {},
     "output_type": "execute_result"
    }
   ],
   "source": [
    "total_sales_by_year.sort_values(ascending=False)"
   ]
  },
  {
   "cell_type": "code",
   "execution_count": 24,
   "id": "f4124db1",
   "metadata": {},
   "outputs": [
    {
     "data": {
      "text/plain": [
       "307150222.0"
      ]
     },
     "execution_count": 24,
     "metadata": {},
     "output_type": "execute_result"
    }
   ],
   "source": [
    "range_ = (total_sales_by_year[2016] - total_sales_by_year[2020]) * 1_000_000_000\n",
    "range_"
   ]
  },
  {
   "cell_type": "code",
   "execution_count": 25,
   "id": "cbf5af01",
   "metadata": {},
   "outputs": [
    {
     "data": {
      "text/plain": [
       "207082929.00000003"
      ]
     },
     "execution_count": 25,
     "metadata": {},
     "output_type": "execute_result"
    }
   ],
   "source": [
    "decline = (total_sales_by_year[2019] - total_sales_by_year[2020]) * 1_000_000_000\n",
    "decline"
   ]
  },
  {
   "cell_type": "code",
   "execution_count": 26,
   "id": "1358c062",
   "metadata": {},
   "outputs": [
    {
     "data": {
      "text/plain": [
       "14.2"
      ]
     },
     "execution_count": 26,
     "metadata": {},
     "output_type": "execute_result"
    }
   ],
   "source": [
    "percentage_decline = round((decline / (1_000_000_000 *total_sales_by_year[2019])) * 100, 1)\n",
    "percentage_decline"
   ]
  },
  {
   "cell_type": "code",
   "execution_count": 27,
   "id": "5b9fa072",
   "metadata": {},
   "outputs": [
    {
     "data": {
      "text/plain": [
       "125366156.00000012"
      ]
     },
     "execution_count": 27,
     "metadata": {},
     "output_type": "execute_result"
    }
   ],
   "source": [
    "growth = (total_sales_by_year[2021] - total_sales_by_year[2020]) * 1_000_000_000\n",
    "growth"
   ]
  },
  {
   "cell_type": "code",
   "execution_count": 28,
   "id": "ab36d75a",
   "metadata": {},
   "outputs": [
    {
     "data": {
      "text/plain": [
       "10.0"
      ]
     },
     "execution_count": 28,
     "metadata": {},
     "output_type": "execute_result"
    }
   ],
   "source": [
    "percentage_growth = round((growth / (1_000_000_000 *total_sales_by_year[2020])) * 100, 1)\n",
    "percentage_growth"
   ]
  },
  {
   "cell_type": "markdown",
   "id": "5843ca2d",
   "metadata": {},
   "source": [
    "## Summary of the Sales Analysis\n",
    "- For the period under review, the sales peaked in year 2016 reaching a tune of 1.55 billion USD\n",
    "- The lowest point  of the sales was in year 2020 with a total sales of 1.25 billion USD. This may be as a result of the impact of covid-19 to business.\n",
    "- The sales declined from 1.46 billion USD in 2019 to 1.25 billion USD in 2020. Which means that the business suffered 14.2% decline from 2019 to 2020\n",
    "- However the business grew by 10.0% from 2020 to 2021. Hence the total sales in 2021 was 1.38 billion USD"
   ]
  },
  {
   "cell_type": "markdown",
   "id": "74d31885",
   "metadata": {},
   "source": [
    "## Cost Analysis and Visualization"
   ]
  },
  {
   "cell_type": "code",
   "execution_count": 29,
   "id": "cf2cf376",
   "metadata": {},
   "outputs": [],
   "source": [
    "cost = df[df['Account'] != 'Sales']"
   ]
  },
  {
   "cell_type": "code",
   "execution_count": 30,
   "id": "499c9860",
   "metadata": {},
   "outputs": [
    {
     "data": {
      "text/plain": [
       "Year\n",
       "2012    1.286976\n",
       "2016    1.279029\n",
       "2017    1.277387\n",
       "2022    1.225602\n",
       "2013    1.193732\n",
       "2019    1.182028\n",
       "2018    1.179739\n",
       "2015    1.144769\n",
       "2014    1.143391\n",
       "2021    1.130884\n",
       "2020    1.019909\n",
       "Name: Total, dtype: float64"
      ]
     },
     "execution_count": 30,
     "metadata": {},
     "output_type": "execute_result"
    }
   ],
   "source": [
    "cost_by_year = cost.groupby('Year')['Total'].sum() / 1_000_000_000\n",
    "cost_by_year.sort_values(ascending=False)"
   ]
  },
  {
   "cell_type": "code",
   "execution_count": 31,
   "id": "38f0da44",
   "metadata": {},
   "outputs": [
    {
     "data": {
      "image/png": "[encoded data removed]",
      "text/plain": [
       "<Figure size 640x480 with 1 Axes>"
      ]
     },
     "metadata": {},
     "output_type": "display_data"
    }
   ],
   "source": [
    "cost_by_year.plot()\n",
    "plt.title('Walmart Business Expenses by Year from 2012 to 2022')\n",
    "plt.xlabel('Year')\n",
    "plt.ylabel('Expenses in Billion USD')\n",
    "plt.savefig('cost.png')\n",
    "plt.show()"
   ]
  },
  {
   "cell_type": "code",
   "execution_count": 32,
   "id": "8a9f4db6",
   "metadata": {},
   "outputs": [],
   "source": [
    "total_sales_by_year.name = 'Revenue'\n",
    "cost_by_year.name = 'Cost'"
   ]
  },
  {
   "cell_type": "code",
   "execution_count": 33,
   "id": "71359403",
   "metadata": {
    "scrolled": true
   },
   "outputs": [
    {
     "data": {
      "image/png": "[encoded data removed]",
      "text/plain": [
       "<Figure size 640x480 with 1 Axes>"
      ]
     },
     "metadata": {},
     "output_type": "display_data"
    }
   ],
   "source": [
    "total_sales_by_year.plot()\n",
    "cost_by_year.plot()\n",
    "plt.title('Walmart Cost and Revenue from 2012 - 2022')\n",
    "plt.xlabel('Year')\n",
    "plt.ylabel('Amount in Billion USD')\n",
    "plt.legend()\n",
    "plt.savefig('sale_cost.png')\n",
    "\n",
    "plt.show()"
   ]
  },
  {
   "cell_type": "markdown",
   "id": "cfd64209",
   "metadata": {},
   "source": [
    "## Summary of the Cost Analysis\n",
    "- The cost of running Walmart business peaked in 2012 with to about 1.29 billion USD.\n",
    "- The business spent 1.02 billion USD to run the business in 2020. This was the least that was spent for the period under review. The spending maybe as a result of the impact of covid-19.\n",
    "- The cost of running the business for the period under review was always lower than the revenue. This means that the business made considerable amount of profit each."
   ]
  },
  {
   "cell_type": "markdown",
   "id": "050ed0f0",
   "metadata": {},
   "source": [
    "## Profit Analysis and Visualization"
   ]
  },
  {
   "cell_type": "code",
   "execution_count": 34,
   "id": "4851f2ef",
   "metadata": {},
   "outputs": [],
   "source": [
    "profit = total_sales_by_year - cost_by_year"
   ]
  },
  {
   "cell_type": "code",
   "execution_count": 35,
   "id": "a6e0a3e4",
   "metadata": {},
   "outputs": [],
   "source": [
    "profit.name = 'Profit'"
   ]
  },
  {
   "cell_type": "code",
   "execution_count": 36,
   "id": "b188498f",
   "metadata": {},
   "outputs": [
    {
     "data": {
      "text/plain": [
       "Year\n",
       "2016    279.777704\n",
       "2017    279.462000\n",
       "2019    276.712132\n",
       "2022    270.146778\n",
       "2012    267.084281\n",
       "2013    262.251784\n",
       "2015    254.269986\n",
       "2021    246.138623\n",
       "2018    245.079725\n",
       "2014    232.336858\n",
       "2020    231.748250\n",
       "Name: Profit, dtype: float64"
      ]
     },
     "execution_count": 36,
     "metadata": {},
     "output_type": "execute_result"
    }
   ],
   "source": [
    "profit.sort_values(ascending=False) * 1000"
   ]
  },
  {
   "cell_type": "code",
   "execution_count": 37,
   "id": "4b45c3f0",
   "metadata": {},
   "outputs": [
    {
     "data": {
      "image/png": "[encoded data removed]",
      "text/plain": [
       "<Figure size 640x480 with 1 Axes>"
      ]
     },
     "metadata": {},
     "output_type": "display_data"
    }
   ],
   "source": [
    "(profit * 1000).plot()\n",
    "plt.title('Walmart Profit by Year from 2012 - 2022')\n",
    "plt.xlabel('Year')\n",
    "plt.ylabel(\"Profit in Million USD\")\n",
    "plt.savefig('profit.png')\n",
    "plt.show()"
   ]
  },
  {
   "cell_type": "code",
   "execution_count": 38,
   "id": "3b215a16",
   "metadata": {},
   "outputs": [
    {
     "data": {
      "image/png": "[encoded data removed]",
      "text/plain": [
       "<Figure size 640x480 with 1 Axes>"
      ]
     },
     "metadata": {},
     "output_type": "display_data"
    }
   ],
   "source": [
    "total_sales_by_year.plot()\n",
    "cost_by_year.plot()\n",
    "profit.plot()\n",
    "plt.title('Walmart Cost and Revenue from 2012 - 2022')\n",
    "plt.xlabel('Year')\n",
    "plt.ylabel('Amount in Billion USD')\n",
    "plt.legend()\n",
    "plt.savefig('sales_cost_profit.png')\n",
    "plt.show()"
   ]
  },
  {
   "cell_type": "code",
   "execution_count": 39,
   "id": "f4b0e662",
   "metadata": {},
   "outputs": [
    {
     "data": {
      "text/html": [
       "<div>\n",
       "<style scoped>\n",
       "    .dataframe tbody tr th:only-of-type {\n",
       "        vertical-align: middle;\n",
       "    }\n",
       "\n",
       "    .dataframe tbody tr th {\n",
       "        vertical-align: top;\n",
       "    }\n",
       "\n",
       "    .dataframe thead th {\n",
       "        text-align: right;\n",
       "    }\n",
       "</style>\n",
       "<table border=\"1\" class=\"dataframe\">\n",
       "  <thead>\n",
       "    <tr style=\"text-align: right;\">\n",
       "      <th></th>\n",
       "      <th>revenue</th>\n",
       "      <th>cost</th>\n",
       "      <th>profit</th>\n",
       "    </tr>\n",
       "    <tr>\n",
       "      <th>Year</th>\n",
       "      <th></th>\n",
       "      <th></th>\n",
       "      <th></th>\n",
       "    </tr>\n",
       "  </thead>\n",
       "  <tbody>\n",
       "    <tr>\n",
       "      <th>2012</th>\n",
       "      <td>1.554061</td>\n",
       "      <td>1.286976</td>\n",
       "      <td>0.267084</td>\n",
       "    </tr>\n",
       "    <tr>\n",
       "      <th>2013</th>\n",
       "      <td>1.455984</td>\n",
       "      <td>1.193732</td>\n",
       "      <td>0.262252</td>\n",
       "    </tr>\n",
       "    <tr>\n",
       "      <th>2014</th>\n",
       "      <td>1.375727</td>\n",
       "      <td>1.143391</td>\n",
       "      <td>0.232337</td>\n",
       "    </tr>\n",
       "    <tr>\n",
       "      <th>2015</th>\n",
       "      <td>1.399039</td>\n",
       "      <td>1.144769</td>\n",
       "      <td>0.254270</td>\n",
       "    </tr>\n",
       "    <tr>\n",
       "      <th>2016</th>\n",
       "      <td>1.558807</td>\n",
       "      <td>1.279029</td>\n",
       "      <td>0.279778</td>\n",
       "    </tr>\n",
       "  </tbody>\n",
       "</table>\n",
       "</div>"
      ],
      "text/plain": [
       "       revenue      cost    profit\n",
       "Year                              \n",
       "2012  1.554061  1.286976  0.267084\n",
       "2013  1.455984  1.193732  0.262252\n",
       "2014  1.375727  1.143391  0.232337\n",
       "2015  1.399039  1.144769  0.254270\n",
       "2016  1.558807  1.279029  0.279778"
      ]
     },
     "execution_count": 39,
     "metadata": {},
     "output_type": "execute_result"
    }
   ],
   "source": [
    "summary = pd.DataFrame({'revenue': total_sales_by_year, 'cost': cost_by_year, 'profit':profit})\n",
    "summary.head()"
   ]
  },
  {
   "cell_type": "code",
   "execution_count": 40,
   "id": "c2cd763b",
   "metadata": {},
   "outputs": [
    {
     "data": {
      "image/png": "[encoded data removed]",
      "text/plain": [
       "<Figure size 640x480 with 1 Axes>"
      ]
     },
     "metadata": {},
     "output_type": "display_data"
    }
   ],
   "source": [
    "summary.plot.bar()\n",
    "plt.title('Walmart Cost and Revenue from 2012 - 2022')\n",
    "plt.xlabel('Year')\n",
    "plt.ylabel('Amount in Billion USD')\n",
    "plt.savefig('sales_cost_profit2.png')\n",
    "plt.show()"
   ]
  },
  {
   "cell_type": "code",
   "execution_count": 41,
   "id": "6175100a",
   "metadata": {},
   "outputs": [
    {
     "data": {
      "text/html": [
       "<div>\n",
       "<style scoped>\n",
       "    .dataframe tbody tr th:only-of-type {\n",
       "        vertical-align: middle;\n",
       "    }\n",
       "\n",
       "    .dataframe tbody tr th {\n",
       "        vertical-align: top;\n",
       "    }\n",
       "\n",
       "    .dataframe thead th {\n",
       "        text-align: right;\n",
       "    }\n",
       "</style>\n",
       "<table border=\"1\" class=\"dataframe\">\n",
       "  <thead>\n",
       "    <tr style=\"text-align: right;\">\n",
       "      <th></th>\n",
       "      <th>revenue</th>\n",
       "      <th>cost</th>\n",
       "      <th>profit</th>\n",
       "      <th>percentage_profit</th>\n",
       "    </tr>\n",
       "    <tr>\n",
       "      <th>Year</th>\n",
       "      <th></th>\n",
       "      <th></th>\n",
       "      <th></th>\n",
       "      <th></th>\n",
       "    </tr>\n",
       "  </thead>\n",
       "  <tbody>\n",
       "    <tr>\n",
       "      <th>2012</th>\n",
       "      <td>1.554061</td>\n",
       "      <td>1.286976</td>\n",
       "      <td>0.267084</td>\n",
       "      <td>20.752850</td>\n",
       "    </tr>\n",
       "    <tr>\n",
       "      <th>2013</th>\n",
       "      <td>1.455984</td>\n",
       "      <td>1.193732</td>\n",
       "      <td>0.262252</td>\n",
       "      <td>21.969068</td>\n",
       "    </tr>\n",
       "    <tr>\n",
       "      <th>2014</th>\n",
       "      <td>1.375727</td>\n",
       "      <td>1.143391</td>\n",
       "      <td>0.232337</td>\n",
       "      <td>20.319991</td>\n",
       "    </tr>\n",
       "    <tr>\n",
       "      <th>2015</th>\n",
       "      <td>1.399039</td>\n",
       "      <td>1.144769</td>\n",
       "      <td>0.254270</td>\n",
       "      <td>22.211465</td>\n",
       "    </tr>\n",
       "    <tr>\n",
       "      <th>2016</th>\n",
       "      <td>1.558807</td>\n",
       "      <td>1.279029</td>\n",
       "      <td>0.279778</td>\n",
       "      <td>21.874222</td>\n",
       "    </tr>\n",
       "    <tr>\n",
       "      <th>2017</th>\n",
       "      <td>1.556849</td>\n",
       "      <td>1.277387</td>\n",
       "      <td>0.279462</td>\n",
       "      <td>21.877628</td>\n",
       "    </tr>\n",
       "    <tr>\n",
       "      <th>2018</th>\n",
       "      <td>1.424819</td>\n",
       "      <td>1.179739</td>\n",
       "      <td>0.245080</td>\n",
       "      <td>20.774066</td>\n",
       "    </tr>\n",
       "    <tr>\n",
       "      <th>2019</th>\n",
       "      <td>1.458740</td>\n",
       "      <td>1.182028</td>\n",
       "      <td>0.276712</td>\n",
       "      <td>23.409956</td>\n",
       "    </tr>\n",
       "    <tr>\n",
       "      <th>2020</th>\n",
       "      <td>1.251657</td>\n",
       "      <td>1.019909</td>\n",
       "      <td>0.231748</td>\n",
       "      <td>22.722454</td>\n",
       "    </tr>\n",
       "    <tr>\n",
       "      <th>2021</th>\n",
       "      <td>1.377023</td>\n",
       "      <td>1.130884</td>\n",
       "      <td>0.246139</td>\n",
       "      <td>21.765146</td>\n",
       "    </tr>\n",
       "    <tr>\n",
       "      <th>2022</th>\n",
       "      <td>1.495748</td>\n",
       "      <td>1.225602</td>\n",
       "      <td>0.270147</td>\n",
       "      <td>22.041973</td>\n",
       "    </tr>\n",
       "  </tbody>\n",
       "</table>\n",
       "</div>"
      ],
      "text/plain": [
       "       revenue      cost    profit  percentage_profit\n",
       "Year                                                 \n",
       "2012  1.554061  1.286976  0.267084          20.752850\n",
       "2013  1.455984  1.193732  0.262252          21.969068\n",
       "2014  1.375727  1.143391  0.232337          20.319991\n",
       "2015  1.399039  1.144769  0.254270          22.211465\n",
       "2016  1.558807  1.279029  0.279778          21.874222\n",
       "2017  1.556849  1.277387  0.279462          21.877628\n",
       "2018  1.424819  1.179739  0.245080          20.774066\n",
       "2019  1.458740  1.182028  0.276712          23.409956\n",
       "2020  1.251657  1.019909  0.231748          22.722454\n",
       "2021  1.377023  1.130884  0.246139          21.765146\n",
       "2022  1.495748  1.225602  0.270147          22.041973"
      ]
     },
     "execution_count": 41,
     "metadata": {},
     "output_type": "execute_result"
    }
   ],
   "source": [
    "summary['percentage_profit'] = summary.profit / summary.cost * 100\n",
    "summary"
   ]
  },
  {
   "cell_type": "code",
   "execution_count": 42,
   "id": "608df4f9",
   "metadata": {},
   "outputs": [
    {
     "data": {
      "text/plain": [
       "Year\n",
       "2019    23.409956\n",
       "2020    22.722454\n",
       "2015    22.211465\n",
       "2022    22.041973\n",
       "2013    21.969068\n",
       "2017    21.877628\n",
       "2016    21.874222\n",
       "2021    21.765146\n",
       "2018    20.774066\n",
       "2012    20.752850\n",
       "2014    20.319991\n",
       "Name: percentage_profit, dtype: float64"
      ]
     },
     "execution_count": 42,
     "metadata": {},
     "output_type": "execute_result"
    }
   ],
   "source": [
    "summary['percentage_profit'].sort_values(ascending=False)"
   ]
  },
  {
   "cell_type": "code",
   "execution_count": 43,
   "id": "0d7425e0",
   "metadata": {},
   "outputs": [
    {
     "data": {
      "image/png": "[encoded data removed]",
      "text/plain": [
       "<Figure size 640x480 with 1 Axes>"
      ]
     },
     "metadata": {},
     "output_type": "display_data"
    }
   ],
   "source": [
    "summary['percentage_profit'].plot()\n",
    "plt.title('Walmart Percentage Profit from 2012 - 2022')\n",
    "plt.xlabel('Year')\n",
    "plt.ylabel('Percentage Profit')\n",
    "plt.savefig('percentage_profit.png')"
   ]
  },
  {
   "cell_type": "markdown",
   "id": "ef5ebe7b",
   "metadata": {},
   "source": [
    "## Summary of Profit Analysis\n",
    "- The business made the highest profit in 2016 and the list profit in 2020\n",
    "- Profit in 2016 was 279.8 million USD, while the profit in 2020 was  231.7 million USD\n",
    "- The percentage profit in 2019 was the highest while th percentage profit in 2014 was the least\n",
    "- The percentage profit in 2019 was 23.4% while that of 2014 was 20.3%\n",
    "- The year 2020 ranked second in percentage profit at about 22.7%. This shows that the business performed well in terms of resource management in 2020."
   ]
  },
  {
   "cell_type": "code",
   "execution_count": null,
   "id": "ff244d24",
   "metadata": {},
   "outputs": [],
   "source": []
  }
 ],
 "metadata": {
  "kernelspec": {
   "display_name": "Python 3 (ipykernel)",
   "language": "python",
   "name": "python3"
  },
  "language_info": {
   "codemirror_mode": {
    "name": "ipython",
    "version": 3
   },
   "file_extension": ".py",
   "mimetype": "text/x-python",
   "name": "python",
   "nbconvert_exporter": "python",
   "pygments_lexer": "ipython3",
   "version": "3.9.13"
  }
 },
 "nbformat": 4,
 "nbformat_minor": 5
}
